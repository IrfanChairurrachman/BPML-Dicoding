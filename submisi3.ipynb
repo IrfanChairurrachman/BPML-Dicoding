{
  "nbformat": 4,
  "nbformat_minor": 0,
  "metadata": {
    "colab": {
      "name": "submisi3.ipynb",
      "provenance": [],
      "collapsed_sections": [],
      "authorship_tag": "ABX9TyPmQtVDu/VGUrLAPf3eH9/0",
      "include_colab_link": true
    },
    "kernelspec": {
      "name": "python3",
      "display_name": "Python 3"
    },
    "accelerator": "GPU"
  },
  "cells": [
    {
      "cell_type": "markdown",
      "metadata": {
        "id": "view-in-github",
        "colab_type": "text"
      },
      "source": [
        "<a href=\"https://colab.research.google.com/github/IrfanChairurrachman/BPML-Dicoding/blob/master/submisi3.ipynb\" target=\"_parent\"><img src=\"https://colab.research.google.com/assets/colab-badge.svg\" alt=\"Open In Colab\"/></a>"
      ]
    },
    {
      "cell_type": "markdown",
      "metadata": {
        "id": "KorsO_gacPi1"
      },
      "source": [
        "<h2> Submission 3 </h2>\n",
        "Dataset: \n",
        "https://www.kaggle.com/alessiocorrado99/animals10\n",
        "\n",
        "berisi 28k gambar 10 kelas hewan dengan resolusi yang berbeda.\n",
        "\n",
        "yang digunakan dalam pelatihan ini hanya 3 kelas hewan dengan total 12k gambar (12782)"
      ]
    },
    {
      "cell_type": "code",
      "metadata": {
        "id": "hnN1isE_--m_"
      },
      "source": [
        "from google.colab import files\n",
        "files.upload()"
      ],
      "execution_count": null,
      "outputs": []
    },
    {
      "cell_type": "code",
      "metadata": {
        "id": "U_xXMAY4_KpI"
      },
      "source": [
        "!mkdir -p ~/.kaggle\n",
        "!cp kaggle.json ~/.kaggle/\n",
        "!chmod 600 ~/.kaggle/kaggle.json"
      ],
      "execution_count": null,
      "outputs": []
    },
    {
      "cell_type": "code",
      "metadata": {
        "id": "fOEnXKuu_W-M",
        "outputId": "a89674f1-1f2d-4ea1-fff0-4badb6fc034f",
        "colab": {
          "base_uri": "https://localhost:8080/",
          "height": 85
        }
      },
      "source": [
        "ls ~/.kaggle -la"
      ],
      "execution_count": null,
      "outputs": [
        {
          "output_type": "stream",
          "text": [
            "total 16\n",
            "drwxr-xr-x 2 root root 4096 Sep 11 10:56 \u001b[0m\u001b[01;34m.\u001b[0m/\n",
            "drwx------ 1 root root 4096 Sep 11 10:56 \u001b[01;34m..\u001b[0m/\n",
            "-rw------- 1 root root   75 Sep 11 10:56 kaggle.json\n"
          ],
          "name": "stdout"
        }
      ]
    },
    {
      "cell_type": "code",
      "metadata": {
        "id": "mzOFLpj-_v1T",
        "outputId": "1ef9ad06-989e-4d32-880d-8fb389428bfe",
        "colab": {
          "base_uri": "https://localhost:8080/",
          "height": 68
        }
      },
      "source": [
        "!kaggle datasets download -d alessiocorrado99/animals10"
      ],
      "execution_count": null,
      "outputs": [
        {
          "output_type": "stream",
          "text": [
            "Downloading animals10.zip to /content\n",
            " 97% 569M/586M [00:15<00:00, 34.1MB/s]\n",
            "100% 586M/586M [00:15<00:00, 38.8MB/s]\n"
          ],
          "name": "stdout"
        }
      ]
    },
    {
      "cell_type": "code",
      "metadata": {
        "id": "0bAH3880NoEs"
      },
      "source": [
        "import tensorflow as tf\n",
        "import keras_preprocessing\n",
        "from keras_preprocessing import image\n",
        "from keras_preprocessing.image import ImageDataGenerator"
      ],
      "execution_count": null,
      "outputs": []
    },
    {
      "cell_type": "code",
      "metadata": {
        "id": "jk0WGnZH_51p"
      },
      "source": [
        "import os\n",
        "import zipfile\n",
        "import shutil\n",
        "\n",
        "# Ekstrak zip\n",
        "local_zip = '/content/animals10.zip'\n",
        "zip_ref = zipfile.ZipFile(local_zip, 'r')\n",
        "zip_ref.extractall('/content/')\n",
        "zip_ref.close()"
      ],
      "execution_count": null,
      "outputs": []
    },
    {
      "cell_type": "code",
      "metadata": {
        "id": "hvPbWRLIDZye",
        "outputId": "35bea5de-165e-4b6d-c2f4-4d76e22b9cde",
        "colab": {
          "base_uri": "https://localhost:8080/",
          "height": 34
        }
      },
      "source": [
        "dir_utama = os.path.join('/content/raw-img')\n",
        "\n",
        "print(os.listdir(dir_utama))"
      ],
      "execution_count": null,
      "outputs": [
        {
          "output_type": "stream",
          "text": [
            "['pecora', 'cane', 'farfalla', 'ragno', 'gatto', 'cavallo', 'elefante', 'mucca', 'scoiattolo', 'gallina']\n"
          ],
          "name": "stdout"
        }
      ]
    },
    {
      "cell_type": "code",
      "metadata": {
        "id": "j-YZDq1RySSZ",
        "outputId": "a6e372c5-ed43-4a53-9330-bcb681315967",
        "colab": {
          "base_uri": "https://localhost:8080/",
          "height": 34
        }
      },
      "source": [
        "# Direktori yang akan dihapus dimasukkan dalam list\n",
        "ignore_dir = ['pecora', 'farfalla', 'gatto', 'cavallo', 'elefante', 'mucca', 'scoiattolo']\n",
        "\n",
        "for dir in ignore_dir:\n",
        "  # Path direktori\n",
        "  path = os.path.join(dir_utama, dir)\n",
        "  # Menghapus direktori terpilih beserta gambarnya\n",
        "  shutil.rmtree(path)\n",
        "\n",
        "print(os.listdir(dir_utama))"
      ],
      "execution_count": null,
      "outputs": [
        {
          "output_type": "stream",
          "text": [
            "['cane', 'ragno', 'gallina']\n"
          ],
          "name": "stdout"
        }
      ]
    },
    {
      "cell_type": "markdown",
      "metadata": {
        "id": "Rd2N-Yb6Gpbl"
      },
      "source": [
        "<b>Keterangan nama direktori </b>(ini kayanya bahasa latin deh):\n",
        "- Cane: Anjing\n",
        "- Gallina: Ayam\n",
        "- Ragno: Laba-laba\n"
      ]
    },
    {
      "cell_type": "code",
      "metadata": {
        "id": "ZrQv4RU7EAXi",
        "outputId": "15182201-40db-4272-a3d1-575e26418021",
        "colab": {
          "base_uri": "https://localhost:8080/",
          "height": 408
        }
      },
      "source": [
        "from PIL import Image\n",
        "# Print jumlah gambar di setiap direktori\n",
        "jumlah_sampel = 0\n",
        "\n",
        "for x in os.listdir(dir_utama):\n",
        "  dir = os.path.join('/content/raw-img/', x)\n",
        "  y = len(os.listdir(dir))\n",
        "  print(x+':', y)\n",
        "  jumlah_sampel = jumlah_sampel + y\n",
        "  \n",
        "  # Print 5 ukuran sampel gambar tiap direktori\n",
        "  img_name = os.listdir(dir)\n",
        "  for z in range(5):\n",
        "    img_path = os.path.join(dir, img_name[z])\n",
        "    img = Image.open(img_path)\n",
        "    print('-',img.size)\n",
        "  print('---------------')\n",
        "\n",
        "\n",
        "print('\\nJumlah total sampel:', jumlah_sampel)"
      ],
      "execution_count": null,
      "outputs": [
        {
          "output_type": "stream",
          "text": [
            "cane: 4863\n",
            "- (226, 300)\n",
            "- (300, 200)\n",
            "- (300, 232)\n",
            "- (300, 200)\n",
            "- (300, 201)\n",
            "---------------\n",
            "ragno: 4821\n",
            "- (300, 215)\n",
            "- (300, 225)\n",
            "- (249, 300)\n",
            "- (261, 300)\n",
            "- (424, 640)\n",
            "---------------\n",
            "gallina: 3098\n",
            "- (300, 204)\n",
            "- (300, 291)\n",
            "- (300, 232)\n",
            "- (300, 189)\n",
            "- (300, 225)\n",
            "---------------\n",
            "\n",
            "Jumlah total sampel: 12782\n"
          ],
          "name": "stdout"
        }
      ]
    },
    {
      "cell_type": "code",
      "metadata": {
        "id": "KpsnteLSMHcn"
      },
      "source": [
        "train_datagen = ImageDataGenerator(\n",
        "    rescale = 1./255,\n",
        "    rotation_range = 20,\n",
        "    horizontal_flip = True,\n",
        "    shear_range = 0.2,\n",
        "    zoom_range = 0.2,\n",
        "    fill_mode = 'nearest',\n",
        "    validation_split = 0.2 # Membagi Data Validasi 20% dan Training 80%\n",
        ")"
      ],
      "execution_count": null,
      "outputs": []
    },
    {
      "cell_type": "code",
      "metadata": {
        "id": "MmW201uQJikP",
        "outputId": "ff7abc5d-64a5-4e85-aa19-8bb38de53916",
        "colab": {
          "base_uri": "https://localhost:8080/",
          "height": 51
        }
      },
      "source": [
        "batch_size = 128 \n",
        "# batch_size = 250\n",
        "\n",
        "generator_latih = train_datagen.flow_from_directory(\n",
        "    dir_utama,\n",
        "    target_size = (150,150), # Besar Input harus sama besar dan dijadikan 150x150\n",
        "    class_mode = 'categorical', # Menggunakan lebih dari 2 kelas\n",
        "    batch_size = batch_size,\n",
        "    subset = 'training' # Penentuan sebagai data latih\n",
        ")\n",
        "\n",
        "generator_validasi = train_datagen.flow_from_directory(\n",
        "    dir_utama, # Direktori sama dengan generator latih karena pembagian dilakukan oleh Generator\n",
        "    target_size = (150,150),\n",
        "    class_mode = 'categorical',\n",
        "    batch_size = batch_size,\n",
        "    subset = 'validation' # Penentuan sebagai data latih\n",
        ")"
      ],
      "execution_count": null,
      "outputs": [
        {
          "output_type": "stream",
          "text": [
            "Found 10227 images belonging to 3 classes.\n",
            "Found 2555 images belonging to 3 classes.\n"
          ],
          "name": "stdout"
        }
      ]
    },
    {
      "cell_type": "code",
      "metadata": {
        "id": "-6UDDf3iKntC",
        "outputId": "09b4aa4d-a975-4935-dfe6-868f573a5b36",
        "colab": {
          "base_uri": "https://localhost:8080/",
          "height": 561
        }
      },
      "source": [
        "model = tf.keras.models.Sequential([\n",
        "    # Besar masukan dibuat sebesar 150x150 dengan warna 3 bytes\n",
        "    # Konvulasi pertama\n",
        "    tf.keras.layers.Conv2D(64, (3,3), activation='relu', input_shape=(150, 150, 3)),\n",
        "    tf.keras.layers.MaxPooling2D(2, 2),\n",
        "    # Konvolusi Kedua\n",
        "    tf.keras.layers.Conv2D(64, (3,3), activation='relu'),\n",
        "    tf.keras.layers.MaxPooling2D(2,2),\n",
        "    # Konvolusi Ketiga\n",
        "    tf.keras.layers.Conv2D(128, (3,3), activation='relu'),\n",
        "    tf.keras.layers.MaxPooling2D(2,2),\n",
        "    # Konvolusi Keempat\n",
        "    tf.keras.layers.Conv2D(128, (3,3), activation='relu'),\n",
        "    tf.keras.layers.MaxPooling2D(2,2),\n",
        "    # Meratakan input menjadi 1 dimensi\n",
        "    tf.keras.layers.Flatten(),\n",
        "    # Menggunakan Dropout sebesar 50%\n",
        "    tf.keras.layers.Dropout(0.5), \n",
        "    # 512 neuron terhadap hidden layer\n",
        "    tf.keras.layers.Dense(512, activation='relu'),\n",
        "    # 3 neuron/kelas pada output layer\n",
        "    tf.keras.layers.Dense(3, activation='softmax')\n",
        "])\n",
        "\n",
        "model.summary()\n",
        "\n",
        "model.compile(loss = 'categorical_crossentropy', \n",
        "              optimizer = 'rmsprop', # Opmitizer RMSprop\n",
        "              metrics = ['accuracy'])"
      ],
      "execution_count": null,
      "outputs": [
        {
          "output_type": "stream",
          "text": [
            "Model: \"sequential\"\n",
            "_________________________________________________________________\n",
            "Layer (type)                 Output Shape              Param #   \n",
            "=================================================================\n",
            "conv2d (Conv2D)              (None, 148, 148, 64)      1792      \n",
            "_________________________________________________________________\n",
            "max_pooling2d (MaxPooling2D) (None, 74, 74, 64)        0         \n",
            "_________________________________________________________________\n",
            "conv2d_1 (Conv2D)            (None, 72, 72, 64)        36928     \n",
            "_________________________________________________________________\n",
            "max_pooling2d_1 (MaxPooling2 (None, 36, 36, 64)        0         \n",
            "_________________________________________________________________\n",
            "conv2d_2 (Conv2D)            (None, 34, 34, 128)       73856     \n",
            "_________________________________________________________________\n",
            "max_pooling2d_2 (MaxPooling2 (None, 17, 17, 128)       0         \n",
            "_________________________________________________________________\n",
            "conv2d_3 (Conv2D)            (None, 15, 15, 128)       147584    \n",
            "_________________________________________________________________\n",
            "max_pooling2d_3 (MaxPooling2 (None, 7, 7, 128)         0         \n",
            "_________________________________________________________________\n",
            "flatten (Flatten)            (None, 6272)              0         \n",
            "_________________________________________________________________\n",
            "dropout (Dropout)            (None, 6272)              0         \n",
            "_________________________________________________________________\n",
            "dense (Dense)                (None, 512)               3211776   \n",
            "_________________________________________________________________\n",
            "dense_1 (Dense)              (None, 3)                 1539      \n",
            "=================================================================\n",
            "Total params: 3,473,475\n",
            "Trainable params: 3,473,475\n",
            "Non-trainable params: 0\n",
            "_________________________________________________________________\n"
          ],
          "name": "stdout"
        }
      ]
    },
    {
      "cell_type": "code",
      "metadata": {
        "id": "ZZmonzmAKhDG"
      },
      "source": [
        "class myCallback(tf.keras.callbacks.Callback):\n",
        "  def on_epoch_end(self, epoch, logs={}):\n",
        "    if(logs.get('accuracy') > 0.92):\n",
        "      print(\"\\nAkurasi di atas 92%, hentikan pelatihan!\")\n",
        "      self.model.stop_training = True\n",
        "\n",
        "callbacks = myCallback()"
      ],
      "execution_count": null,
      "outputs": []
    },
    {
      "cell_type": "code",
      "metadata": {
        "id": "pt4GRE9MKS6Z",
        "outputId": "114aa40a-1205-4856-fc4b-25a5497c04c8",
        "colab": {
          "base_uri": "https://localhost:8080/",
          "height": 1000
        }
      },
      "source": [
        "history = model.fit(generator_latih, \n",
        "                    epochs = 40, \n",
        "                    steps_per_epoch = 10227//batch_size, \n",
        "                    validation_data = generator_validasi, \n",
        "                    verbose = 1, \n",
        "                    validation_steps = 2555//batch_size,\n",
        "                    callbacks = [callbacks])"
      ],
      "execution_count": null,
      "outputs": [
        {
          "output_type": "stream",
          "text": [
            "Epoch 1/40\n",
            "79/79 [==============================] - 90s 1s/step - loss: 1.1854 - accuracy: 0.4115 - val_loss: 0.9776 - val_accuracy: 0.5584\n",
            "Epoch 2/40\n",
            "79/79 [==============================] - 90s 1s/step - loss: 0.9524 - accuracy: 0.5598 - val_loss: 0.7564 - val_accuracy: 0.6690\n",
            "Epoch 3/40\n",
            "79/79 [==============================] - 90s 1s/step - loss: 0.8467 - accuracy: 0.6221 - val_loss: 0.7662 - val_accuracy: 0.6797\n",
            "Epoch 4/40\n",
            "79/79 [==============================] - 90s 1s/step - loss: 0.7273 - accuracy: 0.6884 - val_loss: 0.6156 - val_accuracy: 0.7414\n",
            "Epoch 5/40\n",
            "79/79 [==============================] - 90s 1s/step - loss: 0.6142 - accuracy: 0.7573 - val_loss: 0.7837 - val_accuracy: 0.7019\n",
            "Epoch 6/40\n",
            "79/79 [==============================] - 89s 1s/step - loss: 0.5779 - accuracy: 0.7749 - val_loss: 0.4788 - val_accuracy: 0.8183\n",
            "Epoch 7/40\n",
            "79/79 [==============================] - 89s 1s/step - loss: 0.5156 - accuracy: 0.8064 - val_loss: 0.4404 - val_accuracy: 0.8409\n",
            "Epoch 8/40\n",
            "79/79 [==============================] - 89s 1s/step - loss: 0.4801 - accuracy: 0.8203 - val_loss: 0.4033 - val_accuracy: 0.8520\n",
            "Epoch 9/40\n",
            "79/79 [==============================] - 89s 1s/step - loss: 0.4528 - accuracy: 0.8267 - val_loss: 0.6018 - val_accuracy: 0.7998\n",
            "Epoch 10/40\n",
            "79/79 [==============================] - 89s 1s/step - loss: 0.4200 - accuracy: 0.8426 - val_loss: 0.4403 - val_accuracy: 0.8310\n",
            "Epoch 11/40\n",
            "79/79 [==============================] - 89s 1s/step - loss: 0.4050 - accuracy: 0.8502 - val_loss: 0.3124 - val_accuracy: 0.8902\n",
            "Epoch 12/40\n",
            "79/79 [==============================] - 88s 1s/step - loss: 0.4218 - accuracy: 0.8423 - val_loss: 0.3382 - val_accuracy: 0.8766\n",
            "Epoch 13/40\n",
            "79/79 [==============================] - 88s 1s/step - loss: 0.3725 - accuracy: 0.8628 - val_loss: 0.3389 - val_accuracy: 0.8808\n",
            "Epoch 14/40\n",
            "79/79 [==============================] - 88s 1s/step - loss: 0.3460 - accuracy: 0.8692 - val_loss: 0.4837 - val_accuracy: 0.8302\n",
            "Epoch 15/40\n",
            "79/79 [==============================] - 88s 1s/step - loss: 0.3473 - accuracy: 0.8726 - val_loss: 0.4589 - val_accuracy: 0.8314\n",
            "Epoch 16/40\n",
            "79/79 [==============================] - 89s 1s/step - loss: 0.3406 - accuracy: 0.8758 - val_loss: 0.3625 - val_accuracy: 0.8684\n",
            "Epoch 17/40\n",
            "79/79 [==============================] - 88s 1s/step - loss: 0.3353 - accuracy: 0.8846 - val_loss: 0.5809 - val_accuracy: 0.8076\n",
            "Epoch 18/40\n",
            "79/79 [==============================] - 89s 1s/step - loss: 0.3184 - accuracy: 0.8806 - val_loss: 0.4881 - val_accuracy: 0.8022\n",
            "Epoch 19/40\n",
            "79/79 [==============================] - 89s 1s/step - loss: 0.3067 - accuracy: 0.8898 - val_loss: 0.2796 - val_accuracy: 0.9075\n",
            "Epoch 20/40\n",
            "79/79 [==============================] - 89s 1s/step - loss: 0.2874 - accuracy: 0.8952 - val_loss: 0.3027 - val_accuracy: 0.8968\n",
            "Epoch 21/40\n",
            "79/79 [==============================] - 88s 1s/step - loss: 0.2826 - accuracy: 0.8977 - val_loss: 0.2924 - val_accuracy: 0.9054\n",
            "Epoch 22/40\n",
            "79/79 [==============================] - 89s 1s/step - loss: 0.2709 - accuracy: 0.9012 - val_loss: 0.2425 - val_accuracy: 0.9239\n",
            "Epoch 23/40\n",
            "79/79 [==============================] - 89s 1s/step - loss: 0.2708 - accuracy: 0.9041 - val_loss: 0.2800 - val_accuracy: 0.9025\n",
            "Epoch 24/40\n",
            "79/79 [==============================] - 88s 1s/step - loss: 0.2717 - accuracy: 0.9012 - val_loss: 0.4205 - val_accuracy: 0.8359\n",
            "Epoch 25/40\n",
            "79/79 [==============================] - 89s 1s/step - loss: 0.2566 - accuracy: 0.9062 - val_loss: 0.2360 - val_accuracy: 0.9223\n",
            "Epoch 26/40\n",
            "79/79 [==============================] - 89s 1s/step - loss: 0.2723 - accuracy: 0.9044 - val_loss: 0.2587 - val_accuracy: 0.9100\n",
            "Epoch 27/40\n",
            "79/79 [==============================] - 89s 1s/step - loss: 0.2471 - accuracy: 0.9118 - val_loss: 0.2931 - val_accuracy: 0.9079\n",
            "Epoch 28/40\n",
            "79/79 [==============================] - 88s 1s/step - loss: 0.2436 - accuracy: 0.9109 - val_loss: 0.2592 - val_accuracy: 0.9128\n",
            "Epoch 29/40\n",
            "79/79 [==============================] - 89s 1s/step - loss: 0.2531 - accuracy: 0.9099 - val_loss: 0.2398 - val_accuracy: 0.9174\n",
            "Epoch 30/40\n",
            "79/79 [==============================] - 89s 1s/step - loss: 0.2348 - accuracy: 0.9172 - val_loss: 0.2252 - val_accuracy: 0.9206\n",
            "Epoch 31/40\n",
            "79/79 [==============================] - 88s 1s/step - loss: 0.2269 - accuracy: 0.9166 - val_loss: 0.2741 - val_accuracy: 0.9104\n",
            "Epoch 32/40\n",
            "79/79 [==============================] - 89s 1s/step - loss: 0.2359 - accuracy: 0.9189 - val_loss: 0.2044 - val_accuracy: 0.9338\n",
            "Epoch 33/40\n",
            "79/79 [==============================] - ETA: 0s - loss: 0.2202 - accuracy: 0.9226\n",
            "Akurasi di atas 92%, hentikan pelatihan!\n",
            "79/79 [==============================] - 89s 1s/step - loss: 0.2202 - accuracy: 0.9226 - val_loss: 0.2255 - val_accuracy: 0.9227\n"
          ],
          "name": "stdout"
        }
      ]
    },
    {
      "cell_type": "code",
      "metadata": {
        "id": "Y1OHOZGKt1d3"
      },
      "source": [
        "# tf.keras.backend.clear_session()"
      ],
      "execution_count": null,
      "outputs": []
    },
    {
      "cell_type": "code",
      "metadata": {
        "id": "xvGpQKPOJdV0",
        "outputId": "593dc43b-69d5-4929-9dd0-fae5a8d40dcf",
        "colab": {
          "base_uri": "https://localhost:8080/",
          "height": 541
        }
      },
      "source": [
        "import matplotlib.pyplot as plt\n",
        "\n",
        "def plot_graphs(history, string):\n",
        "  plt.plot(history.history[string])\n",
        "  plt.plot(history.history['val_'+string])\n",
        "  plt.xlabel(\"Epochs\")\n",
        "  plt.ylabel(string)\n",
        "  plt.legend([string, 'val_'+string])\n",
        "  plt.show()\n",
        "  \n",
        "plot_graphs(history, \"accuracy\")\n",
        "plot_graphs(history, \"loss\")"
      ],
      "execution_count": null,
      "outputs": [
        {
          "output_type": "display_data",
          "data": {
            "image/png": "[encoded data removed]",
            "text/plain": [
              "<Figure size 432x288 with 1 Axes>"
            ]
          },
          "metadata": {
            "tags": [],
            "needs_background": "light"
          }
        },
        {
          "output_type": "display_data",
          "data": {
            "image/png": "[encoded data removed]",
            "text/plain": [
              "<Figure size 432x288 with 1 Axes>"
            ]
          },
          "metadata": {
            "tags": [],
            "needs_background": "light"
          }
        }
      ]
    },
    {
      "cell_type": "code",
      "metadata": {
        "id": "81CtUj2-Y7Aa",
        "outputId": "979eb02f-7f52-45a9-8fac-03522baba5f3",
        "colab": {
          "base_uri": "https://localhost:8080/",
          "height": 156
        }
      },
      "source": [
        "# Convert the model.\n",
        "converter = tf.lite.TFLiteConverter.from_keras_model(model)\n",
        "tflite_model = converter.convert()\n",
        "\n",
        "# Save the model.\n",
        "with open('model.tflite', 'wb') as f:\n",
        "  f.write(tflite_model)"
      ],
      "execution_count": null,
      "outputs": [
        {
          "output_type": "stream",
          "text": [
            "WARNING:tensorflow:From /usr/local/lib/python3.6/dist-packages/tensorflow/python/training/tracking/tracking.py:111: Model.state_updates (from tensorflow.python.keras.engine.training) is deprecated and will be removed in a future version.\n",
            "Instructions for updating:\n",
            "This property should not be used in TensorFlow 2.0, as updates are applied automatically.\n",
            "WARNING:tensorflow:From /usr/local/lib/python3.6/dist-packages/tensorflow/python/training/tracking/tracking.py:111: Layer.updates (from tensorflow.python.keras.engine.base_layer) is deprecated and will be removed in a future version.\n",
            "Instructions for updating:\n",
            "This property should not be used in TensorFlow 2.0, as updates are applied automatically.\n",
            "INFO:tensorflow:Assets written to: /tmp/tmpfdxdnfay/assets\n"
          ],
          "name": "stdout"
        }
      ]
    },
    {
      "cell_type": "code",
      "metadata": {
        "id": "BIO9sDbRZKro",
        "outputId": "27623174-2ef0-4f9e-d840-ecf5b31effce",
        "colab": {
          "base_uri": "https://localhost:8080/",
          "height": 51
        }
      },
      "source": [
        "!ls -a"
      ],
      "execution_count": null,
      "outputs": [
        {
          "output_type": "stream",
          "text": [
            ".   animals10.zip  kaggle.json\t raw-img      translate.py\n",
            "..  .config\t   model.tflite  sample_data\n"
          ],
          "name": "stdout"
        }
      ]
    }
  ]
}