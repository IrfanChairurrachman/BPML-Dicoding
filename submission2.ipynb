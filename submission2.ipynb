{
  "nbformat": 4,
  "nbformat_minor": 0,
  "metadata": {
    "colab": {
      "name": "submission2.ipynb",
      "provenance": [],
      "collapsed_sections": [],
      "authorship_tag": "ABX9TyOlt3f6olhP1xuCODnVUti3",
      "include_colab_link": true
    },
    "kernelspec": {
      "name": "python3",
      "display_name": "Python 3"
    },
    "accelerator": "GPU"
  },
  "cells": [
    {
      "cell_type": "markdown",
      "metadata": {
        "id": "view-in-github",
        "colab_type": "text"
      },
      "source": [
        "<a href=\"https://colab.research.google.com/github/IrfanChairurrachman/BPML-Dicoding/blob/master/submission2.ipynb\" target=\"_parent\"><img src=\"https://colab.research.google.com/assets/colab-badge.svg\" alt=\"Open In Colab\"/></a>"
      ]
    },
    {
      "cell_type": "markdown",
      "metadata": {
        "id": "iZPeBmkknBxD"
      },
      "source": [
        "<h2>Time Series"
      ]
    },
    {
      "cell_type": "markdown",
      "metadata": {
        "id": "WmQUdcpCj8-m"
      },
      "source": [
        "<b>sampel data</b>: https://www.kaggle.com/pankrzysiu/weather-archive-jena (deskripsi data dapat dilihat di sini)\n",
        "\n",
        "Sampel data adalah data cuaca Jena dari tahun 2009 sampai tahun 2016. data didownload dari https://s3.amazonaws.com/keras-datasets/jena_climate_2009_2016.csv.zip"
      ]
    },
    {
      "cell_type": "code",
      "metadata": {
        "id": "wZRlWDIQlJWN",
        "outputId": "22f30689-00e7-46e0-9b2c-8b9b0bb045a1",
        "colab": {
          "base_uri": "https://localhost:8080/",
          "height": 204
        }
      },
      "source": [
        "!wget --no-check-certificate \\\n",
        "  https://s3.amazonaws.com/keras-datasets/jena_climate_2009_2016.csv.zip \\\n",
        "  -O /content/jena_climate_2009_2016.zip"
      ],
      "execution_count": null,
      "outputs": [
        {
          "output_type": "stream",
          "text": [
            "--2020-09-06 14:20:49--  https://s3.amazonaws.com/keras-datasets/jena_climate_2009_2016.csv.zip\n",
            "Resolving s3.amazonaws.com (s3.amazonaws.com)... 52.217.81.86\n",
            "Connecting to s3.amazonaws.com (s3.amazonaws.com)|52.217.81.86|:443... connected.\n",
            "HTTP request sent, awaiting response... 200 OK\n",
            "Length: 13568290 (13M) [application/zip]\n",
            "Saving to: ‘/content/jena_climate_2009_2016.zip’\n",
            "\n",
            "/content/jena_clima 100%[===================>]  12.94M  39.5MB/s    in 0.3s    \n",
            "\n",
            "2020-09-06 14:20:50 (39.5 MB/s) - ‘/content/jena_climate_2009_2016.zip’ saved [13568290/13568290]\n",
            "\n"
          ],
          "name": "stdout"
        }
      ]
    },
    {
      "cell_type": "code",
      "metadata": {
        "id": "nHfZPGJNsiIh"
      },
      "source": [
        "import os\n",
        "import zipfile\n",
        "\n",
        "local_zip = '/content/jena_climate_2009_2016.zip'\n",
        "zip_ref = zipfile.ZipFile(local_zip, 'r')\n",
        "zip_ref.extractall('/content')\n",
        "zip_ref.close()"
      ],
      "execution_count": null,
      "outputs": []
    },
    {
      "cell_type": "code",
      "metadata": {
        "id": "yN_9YHMhsyTE",
        "outputId": "e9007069-d6d2-4166-d4a8-79e8508209f4",
        "colab": {
          "base_uri": "https://localhost:8080/",
          "height": 343
        }
      },
      "source": [
        "import pandas as pd\n",
        "data = pd.read_csv('jena_climate_2009_2016.csv')\n",
        "data.head()"
      ],
      "execution_count": null,
      "outputs": [
        {
          "output_type": "execute_result",
          "data": {
            "text/html": [
              "<div>\n",
              "<style scoped>\n",
              "    .dataframe tbody tr th:only-of-type {\n",
              "        vertical-align: middle;\n",
              "    }\n",
              "\n",
              "    .dataframe tbody tr th {\n",
              "        vertical-align: top;\n",
              "    }\n",
              "\n",
              "    .dataframe thead th {\n",
              "        text-align: right;\n",
              "    }\n",
              "</style>\n",
              "<table border=\"1\" class=\"dataframe\">\n",
              "  <thead>\n",
              "    <tr style=\"text-align: right;\">\n",
              "      <th></th>\n",
              "      <th>Date Time</th>\n",
              "      <th>p (mbar)</th>\n",
              "      <th>T (degC)</th>\n",
              "      <th>Tpot (K)</th>\n",
              "      <th>Tdew (degC)</th>\n",
              "      <th>rh (%)</th>\n",
              "      <th>VPmax (mbar)</th>\n",
              "      <th>VPact (mbar)</th>\n",
              "      <th>VPdef (mbar)</th>\n",
              "      <th>sh (g/kg)</th>\n",
              "      <th>H2OC (mmol/mol)</th>\n",
              "      <th>rho (g/m**3)</th>\n",
              "      <th>wv (m/s)</th>\n",
              "      <th>max. wv (m/s)</th>\n",
              "      <th>wd (deg)</th>\n",
              "    </tr>\n",
              "  </thead>\n",
              "  <tbody>\n",
              "    <tr>\n",
              "      <th>0</th>\n",
              "      <td>01.01.2009 00:10:00</td>\n",
              "      <td>996.52</td>\n",
              "      <td>-8.02</td>\n",
              "      <td>265.40</td>\n",
              "      <td>-8.90</td>\n",
              "      <td>93.3</td>\n",
              "      <td>3.33</td>\n",
              "      <td>3.11</td>\n",
              "      <td>0.22</td>\n",
              "      <td>1.94</td>\n",
              "      <td>3.12</td>\n",
              "      <td>1307.75</td>\n",
              "      <td>1.03</td>\n",
              "      <td>1.75</td>\n",
              "      <td>152.3</td>\n",
              "    </tr>\n",
              "    <tr>\n",
              "      <th>1</th>\n",
              "      <td>01.01.2009 00:20:00</td>\n",
              "      <td>996.57</td>\n",
              "      <td>-8.41</td>\n",
              "      <td>265.01</td>\n",
              "      <td>-9.28</td>\n",
              "      <td>93.4</td>\n",
              "      <td>3.23</td>\n",
              "      <td>3.02</td>\n",
              "      <td>0.21</td>\n",
              "      <td>1.89</td>\n",
              "      <td>3.03</td>\n",
              "      <td>1309.80</td>\n",
              "      <td>0.72</td>\n",
              "      <td>1.50</td>\n",
              "      <td>136.1</td>\n",
              "    </tr>\n",
              "    <tr>\n",
              "      <th>2</th>\n",
              "      <td>01.01.2009 00:30:00</td>\n",
              "      <td>996.53</td>\n",
              "      <td>-8.51</td>\n",
              "      <td>264.91</td>\n",
              "      <td>-9.31</td>\n",
              "      <td>93.9</td>\n",
              "      <td>3.21</td>\n",
              "      <td>3.01</td>\n",
              "      <td>0.20</td>\n",
              "      <td>1.88</td>\n",
              "      <td>3.02</td>\n",
              "      <td>1310.24</td>\n",
              "      <td>0.19</td>\n",
              "      <td>0.63</td>\n",
              "      <td>171.6</td>\n",
              "    </tr>\n",
              "    <tr>\n",
              "      <th>3</th>\n",
              "      <td>01.01.2009 00:40:00</td>\n",
              "      <td>996.51</td>\n",
              "      <td>-8.31</td>\n",
              "      <td>265.12</td>\n",
              "      <td>-9.07</td>\n",
              "      <td>94.2</td>\n",
              "      <td>3.26</td>\n",
              "      <td>3.07</td>\n",
              "      <td>0.19</td>\n",
              "      <td>1.92</td>\n",
              "      <td>3.08</td>\n",
              "      <td>1309.19</td>\n",
              "      <td>0.34</td>\n",
              "      <td>0.50</td>\n",
              "      <td>198.0</td>\n",
              "    </tr>\n",
              "    <tr>\n",
              "      <th>4</th>\n",
              "      <td>01.01.2009 00:50:00</td>\n",
              "      <td>996.51</td>\n",
              "      <td>-8.27</td>\n",
              "      <td>265.15</td>\n",
              "      <td>-9.04</td>\n",
              "      <td>94.1</td>\n",
              "      <td>3.27</td>\n",
              "      <td>3.08</td>\n",
              "      <td>0.19</td>\n",
              "      <td>1.92</td>\n",
              "      <td>3.09</td>\n",
              "      <td>1309.00</td>\n",
              "      <td>0.32</td>\n",
              "      <td>0.63</td>\n",
              "      <td>214.3</td>\n",
              "    </tr>\n",
              "  </tbody>\n",
              "</table>\n",
              "</div>"
            ],
            "text/plain": [
              "             Date Time  p (mbar)  T (degC)  ...  wv (m/s)  max. wv (m/s)  wd (deg)\n",
              "0  01.01.2009 00:10:00    996.52     -8.02  ...      1.03           1.75     152.3\n",
              "1  01.01.2009 00:20:00    996.57     -8.41  ...      0.72           1.50     136.1\n",
              "2  01.01.2009 00:30:00    996.53     -8.51  ...      0.19           0.63     171.6\n",
              "3  01.01.2009 00:40:00    996.51     -8.31  ...      0.34           0.50     198.0\n",
              "4  01.01.2009 00:50:00    996.51     -8.27  ...      0.32           0.63     214.3\n",
              "\n",
              "[5 rows x 15 columns]"
            ]
          },
          "metadata": {
            "tags": []
          },
          "execution_count": 63
        }
      ]
    },
    {
      "cell_type": "code",
      "metadata": {
        "id": "sNTikE0TvK_Q",
        "outputId": "f448bf3d-17ee-4069-b468-9afd3d25f438",
        "colab": {
          "base_uri": "https://localhost:8080/",
          "height": 343
        }
      },
      "source": [
        "# Karena data terlalu besar maka interval 10 menit diubah menjadi interval 2 jam\n",
        "data_2 = data[0::12]\n",
        "data_2.head()"
      ],
      "execution_count": null,
      "outputs": [
        {
          "output_type": "execute_result",
          "data": {
            "text/html": [
              "<div>\n",
              "<style scoped>\n",
              "    .dataframe tbody tr th:only-of-type {\n",
              "        vertical-align: middle;\n",
              "    }\n",
              "\n",
              "    .dataframe tbody tr th {\n",
              "        vertical-align: top;\n",
              "    }\n",
              "\n",
              "    .dataframe thead th {\n",
              "        text-align: right;\n",
              "    }\n",
              "</style>\n",
              "<table border=\"1\" class=\"dataframe\">\n",
              "  <thead>\n",
              "    <tr style=\"text-align: right;\">\n",
              "      <th></th>\n",
              "      <th>Date Time</th>\n",
              "      <th>p (mbar)</th>\n",
              "      <th>T (degC)</th>\n",
              "      <th>Tpot (K)</th>\n",
              "      <th>Tdew (degC)</th>\n",
              "      <th>rh (%)</th>\n",
              "      <th>VPmax (mbar)</th>\n",
              "      <th>VPact (mbar)</th>\n",
              "      <th>VPdef (mbar)</th>\n",
              "      <th>sh (g/kg)</th>\n",
              "      <th>H2OC (mmol/mol)</th>\n",
              "      <th>rho (g/m**3)</th>\n",
              "      <th>wv (m/s)</th>\n",
              "      <th>max. wv (m/s)</th>\n",
              "      <th>wd (deg)</th>\n",
              "    </tr>\n",
              "  </thead>\n",
              "  <tbody>\n",
              "    <tr>\n",
              "      <th>0</th>\n",
              "      <td>01.01.2009 00:10:00</td>\n",
              "      <td>996.52</td>\n",
              "      <td>-8.02</td>\n",
              "      <td>265.40</td>\n",
              "      <td>-8.90</td>\n",
              "      <td>93.3</td>\n",
              "      <td>3.33</td>\n",
              "      <td>3.11</td>\n",
              "      <td>0.22</td>\n",
              "      <td>1.94</td>\n",
              "      <td>3.12</td>\n",
              "      <td>1307.75</td>\n",
              "      <td>1.03</td>\n",
              "      <td>1.75</td>\n",
              "      <td>152.3</td>\n",
              "    </tr>\n",
              "    <tr>\n",
              "      <th>12</th>\n",
              "      <td>01.01.2009 02:10:00</td>\n",
              "      <td>996.63</td>\n",
              "      <td>-8.85</td>\n",
              "      <td>264.57</td>\n",
              "      <td>-9.70</td>\n",
              "      <td>93.5</td>\n",
              "      <td>3.12</td>\n",
              "      <td>2.92</td>\n",
              "      <td>0.20</td>\n",
              "      <td>1.82</td>\n",
              "      <td>2.93</td>\n",
              "      <td>1312.11</td>\n",
              "      <td>0.16</td>\n",
              "      <td>0.50</td>\n",
              "      <td>158.3</td>\n",
              "    </tr>\n",
              "    <tr>\n",
              "      <th>24</th>\n",
              "      <td>01.01.2009 04:10:00</td>\n",
              "      <td>997.05</td>\n",
              "      <td>-9.23</td>\n",
              "      <td>264.15</td>\n",
              "      <td>-10.25</td>\n",
              "      <td>92.2</td>\n",
              "      <td>3.03</td>\n",
              "      <td>2.79</td>\n",
              "      <td>0.24</td>\n",
              "      <td>1.74</td>\n",
              "      <td>2.80</td>\n",
              "      <td>1314.62</td>\n",
              "      <td>0.10</td>\n",
              "      <td>0.38</td>\n",
              "      <td>203.9</td>\n",
              "    </tr>\n",
              "    <tr>\n",
              "      <th>36</th>\n",
              "      <td>01.01.2009 06:10:00</td>\n",
              "      <td>997.81</td>\n",
              "      <td>-9.59</td>\n",
              "      <td>263.74</td>\n",
              "      <td>-10.47</td>\n",
              "      <td>93.2</td>\n",
              "      <td>2.95</td>\n",
              "      <td>2.74</td>\n",
              "      <td>0.20</td>\n",
              "      <td>1.71</td>\n",
              "      <td>2.75</td>\n",
              "      <td>1317.44</td>\n",
              "      <td>0.24</td>\n",
              "      <td>0.75</td>\n",
              "      <td>161.6</td>\n",
              "    </tr>\n",
              "    <tr>\n",
              "      <th>48</th>\n",
              "      <td>01.01.2009 08:10:00</td>\n",
              "      <td>999.27</td>\n",
              "      <td>-8.14</td>\n",
              "      <td>265.08</td>\n",
              "      <td>-9.12</td>\n",
              "      <td>92.6</td>\n",
              "      <td>3.30</td>\n",
              "      <td>3.06</td>\n",
              "      <td>0.24</td>\n",
              "      <td>1.91</td>\n",
              "      <td>3.06</td>\n",
              "      <td>1311.98</td>\n",
              "      <td>0.71</td>\n",
              "      <td>1.00</td>\n",
              "      <td>241.4</td>\n",
              "    </tr>\n",
              "  </tbody>\n",
              "</table>\n",
              "</div>"
            ],
            "text/plain": [
              "              Date Time  p (mbar)  T (degC)  ...  wv (m/s)  max. wv (m/s)  wd (deg)\n",
              "0   01.01.2009 00:10:00    996.52     -8.02  ...      1.03           1.75     152.3\n",
              "12  01.01.2009 02:10:00    996.63     -8.85  ...      0.16           0.50     158.3\n",
              "24  01.01.2009 04:10:00    997.05     -9.23  ...      0.10           0.38     203.9\n",
              "36  01.01.2009 06:10:00    997.81     -9.59  ...      0.24           0.75     161.6\n",
              "48  01.01.2009 08:10:00    999.27     -8.14  ...      0.71           1.00     241.4\n",
              "\n",
              "[5 rows x 15 columns]"
            ]
          },
          "metadata": {
            "tags": []
          },
          "execution_count": 64
        }
      ]
    },
    {
      "cell_type": "code",
      "metadata": {
        "id": "iH_FCxx8tM68",
        "outputId": "f415517c-69a3-437e-ece7-6c3365592257",
        "colab": {
          "base_uri": "https://localhost:8080/",
          "height": 289
        }
      },
      "source": [
        "# Melihat apakah ada nilai kosong dalam data\n",
        "data_2.isnull().sum()"
      ],
      "execution_count": null,
      "outputs": [
        {
          "output_type": "execute_result",
          "data": {
            "text/plain": [
              "Date Time          0\n",
              "p (mbar)           0\n",
              "T (degC)           0\n",
              "Tpot (K)           0\n",
              "Tdew (degC)        0\n",
              "rh (%)             0\n",
              "VPmax (mbar)       0\n",
              "VPact (mbar)       0\n",
              "VPdef (mbar)       0\n",
              "sh (g/kg)          0\n",
              "H2OC (mmol/mol)    0\n",
              "rho (g/m**3)       0\n",
              "wv (m/s)           0\n",
              "max. wv (m/s)      0\n",
              "wd (deg)           0\n",
              "dtype: int64"
            ]
          },
          "metadata": {
            "tags": []
          },
          "execution_count": 65
        }
      ]
    },
    {
      "cell_type": "code",
      "metadata": {
        "id": "MuT6VR37tFYU",
        "outputId": "0375b5d2-6a81-4875-b89f-d151cf5249bd",
        "colab": {
          "base_uri": "https://localhost:8080/",
          "height": 334
        }
      },
      "source": [
        "# Melihat deskripsi data, termasuk nilai max dan min dari data\n",
        "# Dapat dilihat jg bahwa jumlah data = 35.046, di atas 10.000\n",
        "data_2.describe()"
      ],
      "execution_count": null,
      "outputs": [
        {
          "output_type": "execute_result",
          "data": {
            "text/html": [
              "<div>\n",
              "<style scoped>\n",
              "    .dataframe tbody tr th:only-of-type {\n",
              "        vertical-align: middle;\n",
              "    }\n",
              "\n",
              "    .dataframe tbody tr th {\n",
              "        vertical-align: top;\n",
              "    }\n",
              "\n",
              "    .dataframe thead th {\n",
              "        text-align: right;\n",
              "    }\n",
              "</style>\n",
              "<table border=\"1\" class=\"dataframe\">\n",
              "  <thead>\n",
              "    <tr style=\"text-align: right;\">\n",
              "      <th></th>\n",
              "      <th>p (mbar)</th>\n",
              "      <th>T (degC)</th>\n",
              "      <th>Tpot (K)</th>\n",
              "      <th>Tdew (degC)</th>\n",
              "      <th>rh (%)</th>\n",
              "      <th>VPmax (mbar)</th>\n",
              "      <th>VPact (mbar)</th>\n",
              "      <th>VPdef (mbar)</th>\n",
              "      <th>sh (g/kg)</th>\n",
              "      <th>H2OC (mmol/mol)</th>\n",
              "      <th>rho (g/m**3)</th>\n",
              "      <th>wv (m/s)</th>\n",
              "      <th>max. wv (m/s)</th>\n",
              "      <th>wd (deg)</th>\n",
              "    </tr>\n",
              "  </thead>\n",
              "  <tbody>\n",
              "    <tr>\n",
              "      <th>count</th>\n",
              "      <td>35046.000000</td>\n",
              "      <td>35046.000000</td>\n",
              "      <td>35046.000000</td>\n",
              "      <td>35046.000000</td>\n",
              "      <td>35046.000000</td>\n",
              "      <td>35046.000000</td>\n",
              "      <td>35046.000000</td>\n",
              "      <td>35046.000000</td>\n",
              "      <td>35046.000000</td>\n",
              "      <td>35046.000000</td>\n",
              "      <td>35046.000000</td>\n",
              "      <td>35046.000000</td>\n",
              "      <td>35046.000000</td>\n",
              "      <td>35046.000000</td>\n",
              "    </tr>\n",
              "    <tr>\n",
              "      <th>mean</th>\n",
              "      <td>989.214183</td>\n",
              "      <td>9.450874</td>\n",
              "      <td>283.493364</td>\n",
              "      <td>4.954232</td>\n",
              "      <td>76.000039</td>\n",
              "      <td>13.577290</td>\n",
              "      <td>9.531882</td>\n",
              "      <td>4.045340</td>\n",
              "      <td>6.021190</td>\n",
              "      <td>9.638269</td>\n",
              "      <td>1216.062309</td>\n",
              "      <td>1.841397</td>\n",
              "      <td>2.953584</td>\n",
              "      <td>175.303193</td>\n",
              "    </tr>\n",
              "    <tr>\n",
              "      <th>std</th>\n",
              "      <td>8.353391</td>\n",
              "      <td>8.424452</td>\n",
              "      <td>8.505252</td>\n",
              "      <td>6.727681</td>\n",
              "      <td>16.487262</td>\n",
              "      <td>7.740242</td>\n",
              "      <td>4.180972</td>\n",
              "      <td>4.899244</td>\n",
              "      <td>2.654072</td>\n",
              "      <td>4.232115</td>\n",
              "      <td>39.974137</td>\n",
              "      <td>53.445500</td>\n",
              "      <td>75.597152</td>\n",
              "      <td>86.860215</td>\n",
              "    </tr>\n",
              "    <tr>\n",
              "      <th>min</th>\n",
              "      <td>942.950000</td>\n",
              "      <td>-22.540000</td>\n",
              "      <td>251.180000</td>\n",
              "      <td>-24.610000</td>\n",
              "      <td>14.200000</td>\n",
              "      <td>0.990000</td>\n",
              "      <td>0.820000</td>\n",
              "      <td>0.000000</td>\n",
              "      <td>0.520000</td>\n",
              "      <td>0.830000</td>\n",
              "      <td>1103.470000</td>\n",
              "      <td>-9999.000000</td>\n",
              "      <td>-9999.000000</td>\n",
              "      <td>0.000000</td>\n",
              "    </tr>\n",
              "    <tr>\n",
              "      <th>25%</th>\n",
              "      <td>984.200000</td>\n",
              "      <td>3.360000</td>\n",
              "      <td>277.430000</td>\n",
              "      <td>0.240000</td>\n",
              "      <td>65.190000</td>\n",
              "      <td>7.780000</td>\n",
              "      <td>6.210000</td>\n",
              "      <td>0.870000</td>\n",
              "      <td>3.920000</td>\n",
              "      <td>6.290000</td>\n",
              "      <td>1187.472500</td>\n",
              "      <td>0.990000</td>\n",
              "      <td>1.760000</td>\n",
              "      <td>126.700000</td>\n",
              "    </tr>\n",
              "    <tr>\n",
              "      <th>50%</th>\n",
              "      <td>989.580000</td>\n",
              "      <td>9.430000</td>\n",
              "      <td>283.490000</td>\n",
              "      <td>5.230000</td>\n",
              "      <td>79.300000</td>\n",
              "      <td>11.830000</td>\n",
              "      <td>8.870000</td>\n",
              "      <td>2.180000</td>\n",
              "      <td>5.600000</td>\n",
              "      <td>8.960000</td>\n",
              "      <td>1213.790000</td>\n",
              "      <td>1.760000</td>\n",
              "      <td>2.960000</td>\n",
              "      <td>198.300000</td>\n",
              "    </tr>\n",
              "    <tr>\n",
              "      <th>75%</th>\n",
              "      <td>994.730000</td>\n",
              "      <td>15.490000</td>\n",
              "      <td>289.550000</td>\n",
              "      <td>10.060000</td>\n",
              "      <td>89.500000</td>\n",
              "      <td>17.620000</td>\n",
              "      <td>12.340000</td>\n",
              "      <td>5.310000</td>\n",
              "      <td>7.800000</td>\n",
              "      <td>12.490000</td>\n",
              "      <td>1242.755000</td>\n",
              "      <td>2.850000</td>\n",
              "      <td>4.730000</td>\n",
              "      <td>234.700000</td>\n",
              "    </tr>\n",
              "    <tr>\n",
              "      <th>max</th>\n",
              "      <td>1015.190000</td>\n",
              "      <td>37.130000</td>\n",
              "      <td>311.060000</td>\n",
              "      <td>22.400000</td>\n",
              "      <td>100.000000</td>\n",
              "      <td>63.260000</td>\n",
              "      <td>27.140000</td>\n",
              "      <td>45.420000</td>\n",
              "      <td>17.360000</td>\n",
              "      <td>27.620000</td>\n",
              "      <td>1392.100000</td>\n",
              "      <td>28.490000</td>\n",
              "      <td>18.380000</td>\n",
              "      <td>360.000000</td>\n",
              "    </tr>\n",
              "  </tbody>\n",
              "</table>\n",
              "</div>"
            ],
            "text/plain": [
              "           p (mbar)      T (degC)  ...  max. wv (m/s)      wd (deg)\n",
              "count  35046.000000  35046.000000  ...   35046.000000  35046.000000\n",
              "mean     989.214183      9.450874  ...       2.953584    175.303193\n",
              "std        8.353391      8.424452  ...      75.597152     86.860215\n",
              "min      942.950000    -22.540000  ...   -9999.000000      0.000000\n",
              "25%      984.200000      3.360000  ...       1.760000    126.700000\n",
              "50%      989.580000      9.430000  ...       2.960000    198.300000\n",
              "75%      994.730000     15.490000  ...       4.730000    234.700000\n",
              "max     1015.190000     37.130000  ...      18.380000    360.000000\n",
              "\n",
              "[8 rows x 14 columns]"
            ]
          },
          "metadata": {
            "tags": []
          },
          "execution_count": 66
        }
      ]
    },
    {
      "cell_type": "code",
      "metadata": {
        "id": "6skgOMwutmK-",
        "outputId": "bd9573b1-1a65-4ea7-df37-f66e91f7e2fc",
        "colab": {
          "base_uri": "https://localhost:8080/",
          "height": 34
        }
      },
      "source": [
        "# Mencari batas nilai mae 5% dari skala data\n",
        "max_mae = (data_2['T (degC)'].max() - data_2['T (degC)'].min()) * 0.05\n",
        "print(max_mae)"
      ],
      "execution_count": null,
      "outputs": [
        {
          "output_type": "stream",
          "text": [
            "2.9835000000000003\n"
          ],
          "name": "stdout"
        }
      ]
    },
    {
      "cell_type": "code",
      "metadata": {
        "id": "iQHUQ21H8dcI"
      },
      "source": [
        "# Menerapkan callback ketika target mae di bawah target\n",
        "class myCallback(tf.keras.callbacks.Callback):\n",
        "  def on_epoch_end(self, epoch, logs={}):\n",
        "    if(logs.get('val_mae') < max_mae):\n",
        "      print(\"\\nMae dibawah target, hentikan pelatihan\")\n",
        "      self.model.stop_training = True\n",
        "\n",
        "callbacks = myCallback()"
      ],
      "execution_count": null,
      "outputs": []
    },
    {
      "cell_type": "code",
      "metadata": {
        "id": "FWG-4YUwtTf9",
        "outputId": "94d5a571-e81f-4a14-f456-c49eba5ea5fb",
        "colab": {
          "base_uri": "https://localhost:8080/",
          "height": 334
        }
      },
      "source": [
        "# Mencoba menerapkan plot terhadap sebagian data\n",
        "import matplotlib.pyplot as plt\n",
        "\n",
        "dates = data_2['Date Time'].values\n",
        "temp  = data_2['T (degC)'].values\n",
        "\n",
        "plt.figure(figsize=(15,5))\n",
        "plt.plot(dates[1200:2400], temp[1200:2400])\n",
        "plt.title('Temperature',\n",
        "          fontsize=10);"
      ],
      "execution_count": null,
      "outputs": [
        {
          "output_type": "display_data",
          "data": {
            "image/png": "[encoded data removed]",
            "text/plain": [
              "<Figure size 1080x360 with 1 Axes>"
            ]
          },
          "metadata": {
            "tags": [],
            "needs_background": "light"
          }
        }
      ]
    },
    {
      "cell_type": "code",
      "metadata": {
        "id": "JF9h_DsX5v_m",
        "outputId": "8fbf58f2-9d13-445a-923c-6034b3937ca5",
        "colab": {
          "base_uri": "https://localhost:8080/",
          "height": 34
        }
      },
      "source": [
        "# Mencari jumlah training data dan val data\n",
        "train_num = int(len(temp)*0.8)\n",
        "print(train_num)"
      ],
      "execution_count": null,
      "outputs": [
        {
          "output_type": "stream",
          "text": [
            "28036\n"
          ],
          "name": "stdout"
        }
      ]
    },
    {
      "cell_type": "code",
      "metadata": {
        "id": "1cgPhgN09Hux",
        "outputId": "68ab033c-338b-4166-e60b-c0bacf0a1bf3",
        "colab": {
          "base_uri": "https://localhost:8080/",
          "height": 51
        }
      },
      "source": [
        "# Mengecek apakah data telah terbagi dengan baik atau tidak\n",
        "temp_train = temp[:train_num]\n",
        "temp_val = temp[train_num:]\n",
        "\n",
        "print(len(temp_train))\n",
        "print(len(temp_val))"
      ],
      "execution_count": null,
      "outputs": [
        {
          "output_type": "stream",
          "text": [
            "28036\n",
            "7010\n"
          ],
          "name": "stdout"
        }
      ]
    },
    {
      "cell_type": "code",
      "metadata": {
        "id": "To73Lsp1x34a"
      },
      "source": [
        "import numpy as np\n",
        "import tensorflow as tf\n",
        "from keras.layers import Dense, LSTM\n",
        "\n",
        "def windowed_dataset(series, window_size, batch_size, shuffle_buffer):\n",
        "    series = tf.expand_dims(series, axis=-1)\n",
        "    ds = tf.data.Dataset.from_tensor_slices(series)\n",
        "    ds = ds.window(window_size + 1, shift=1, drop_remainder=True)\n",
        "    ds = ds.flat_map(lambda w: w.batch(window_size + 1))\n",
        "    ds = ds.shuffle(shuffle_buffer)\n",
        "    ds = ds.map(lambda w: (w[:-1], w[1:]))\n",
        "    return ds.batch(batch_size).prefetch(1)"
      ],
      "execution_count": null,
      "outputs": []
    },
    {
      "cell_type": "code",
      "metadata": {
        "id": "a0oC41QhyKQh"
      },
      "source": [
        "# Menerapkan windowed dataset pada train dan val\n",
        "train_set = windowed_dataset(temp_train, window_size=60, batch_size=100, shuffle_buffer=1000)\n",
        "val_set = windowed_dataset(temp_val, window_size=60, batch_size=100, shuffle_buffer=1000)\n",
        "\n",
        "# Membuat model\n",
        "model = tf.keras.models.Sequential([\n",
        "  tf.keras.layers.LSTM(60, return_sequences=True),\n",
        "  tf.keras.layers.LSTM(60),\n",
        "  tf.keras.layers.Dense(30, activation=\"relu\"),\n",
        "  tf.keras.layers.Dense(10, activation=\"relu\"),\n",
        "  tf.keras.layers.Dense(1),\n",
        "])"
      ],
      "execution_count": null,
      "outputs": []
    },
    {
      "cell_type": "code",
      "metadata": {
        "id": "OW-K5q4F6ew_",
        "outputId": "64119c66-5af0-465a-c8a9-632cbbb57475",
        "colab": {
          "base_uri": "https://localhost:8080/",
          "height": 34
        }
      },
      "source": [
        "val_set"
      ],
      "execution_count": null,
      "outputs": [
        {
          "output_type": "execute_result",
          "data": {
            "text/plain": [
              "<PrefetchDataset shapes: ((None, None, 1), (None, None, 1)), types: (tf.float64, tf.float64)>"
            ]
          },
          "metadata": {
            "tags": []
          },
          "execution_count": 74
        }
      ]
    },
    {
      "cell_type": "code",
      "metadata": {
        "id": "Hl1wk-Q-yToC",
        "outputId": "cbba2493-5d59-4ca3-b799-d8af7ee8ffbd",
        "colab": {
          "base_uri": "https://localhost:8080/",
          "height": 513
        }
      },
      "source": [
        "optimizer = tf.keras.optimizers.SGD(lr=1.0000e-04, momentum=0.9)\n",
        "model.compile(loss=tf.keras.losses.Huber(),\n",
        "              optimizer=optimizer,\n",
        "              metrics=[\"mae\"])\n",
        "history = model.fit(train_set,epochs=30, validation_data=val_set, callbacks=[callbacks])"
      ],
      "execution_count": null,
      "outputs": [
        {
          "output_type": "stream",
          "text": [
            "Epoch 1/30\n",
            "WARNING:tensorflow:Layer lstm_16 is casting an input tensor from dtype float64 to the layer's dtype of float32, which is new behavior in TensorFlow 2.  The layer has dtype float32 because its dtype defaults to floatx.\n",
            "\n",
            "If you intended to run this layer in float32, you can safely ignore this warning. If in doubt, this warning is likely only an issue if you are porting a TensorFlow 1.X model to TensorFlow 2.\n",
            "\n",
            "To change all layers to have dtype float64 by default, call `tf.keras.backend.set_floatx('float64')`. To change just this layer, pass dtype='float64' to the layer constructor. If you are the author of this layer, you can disable autocasting by passing autocast=False to the base Layer constructor.\n",
            "\n",
            "280/280 [==============================] - 6s 21ms/step - loss: 8.4437 - mae: 8.9299 - val_loss: 7.4563 - val_mae: 7.9396\n",
            "Epoch 2/30\n",
            "280/280 [==============================] - 6s 20ms/step - loss: 4.5811 - mae: 5.0586 - val_loss: 3.5545 - val_mae: 4.0220\n",
            "Epoch 3/30\n",
            "280/280 [==============================] - 6s 21ms/step - loss: 3.0823 - mae: 3.5484 - val_loss: 2.7882 - val_mae: 3.2507\n",
            "Epoch 4/30\n",
            "280/280 [==============================] - 6s 21ms/step - loss: 2.9012 - mae: 3.3659 - val_loss: 2.6757 - val_mae: 3.1374\n",
            "Epoch 5/30\n",
            "280/280 [==============================] - 6s 20ms/step - loss: 2.7868 - mae: 3.2514 - val_loss: 2.5690 - val_mae: 3.0306\n",
            "Epoch 6/30\n",
            "280/280 [==============================] - 6s 20ms/step - loss: 2.7441 - mae: 3.2087 - val_loss: 2.5446 - val_mae: 3.0062\n",
            "Epoch 7/30\n",
            "280/280 [==============================] - 6s 20ms/step - loss: 2.7219 - mae: 3.1862 - val_loss: 2.5424 - val_mae: 3.0047\n",
            "Epoch 8/30\n",
            "280/280 [==============================] - 5s 19ms/step - loss: 2.7086 - mae: 3.1728 - val_loss: 2.5255 - val_mae: 2.9872\n",
            "Epoch 9/30\n",
            "280/280 [==============================] - 5s 20ms/step - loss: 2.6938 - mae: 3.1577 - val_loss: 2.5258 - val_mae: 2.9877\n",
            "Epoch 10/30\n",
            "278/280 [============================>.] - ETA: 0s - loss: 2.6828 - mae: 3.1463\n",
            "Mae dibawah target, hentikan pelatihan\n",
            "280/280 [==============================] - 5s 19ms/step - loss: 2.6826 - mae: 3.1462 - val_loss: 2.5196 - val_mae: 2.9812\n"
          ],
          "name": "stdout"
        }
      ]
    },
    {
      "cell_type": "code",
      "metadata": {
        "id": "2cv3aEOP9Wdc",
        "outputId": "0fabcf38-e630-4462-a7a9-ccd2012760db",
        "colab": {
          "base_uri": "https://localhost:8080/",
          "height": 541
        }
      },
      "source": [
        "import matplotlib.pyplot as plt\n",
        "\n",
        "def plot_graphs(history, string):\n",
        "  plt.plot(history.history[string])\n",
        "  plt.plot(history.history['val_'+string])\n",
        "  plt.xlabel(\"Epochs\")\n",
        "  plt.ylabel(string)\n",
        "  plt.legend([string, 'val_'+string])\n",
        "  plt.show()\n",
        "  \n",
        "plot_graphs(history, \"mae\")\n",
        "plot_graphs(history, \"loss\")"
      ],
      "execution_count": null,
      "outputs": [
        {
          "output_type": "display_data",
          "data": {
            "image/png": "[encoded data removed]",
            "text/plain": [
              "<Figure size 432x288 with 1 Axes>"
            ]
          },
          "metadata": {
            "tags": [],
            "needs_background": "light"
          }
        },
        {
          "output_type": "display_data",
          "data": {
            "image/png": "[encoded data removed]",
            "text/plain": [
              "<Figure size 432x288 with 1 Axes>"
            ]
          },
          "metadata": {
            "tags": [],
            "needs_background": "light"
          }
        }
      ]
    }
  ]
}