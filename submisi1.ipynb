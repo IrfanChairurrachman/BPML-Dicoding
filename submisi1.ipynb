{
  "nbformat": 4,
  "nbformat_minor": 0,
  "metadata": {
    "colab": {
      "name": "submisi1.ipynb",
      "provenance": [],
      "collapsed_sections": []
    },
    "kernelspec": {
      "name": "python3",
      "display_name": "Python 3"
    },
    "accelerator": "GPU"
  },
  "cells": [
    {
      "cell_type": "markdown",
      "metadata": {
        "id": "48W0D31c0tBL",
        "colab_type": "text"
      },
      "source": [
        "Dataset dapat dilihat di https://www.kaggle.com/rahulanand0070/youtubevideodataset"
      ]
    },
    {
      "cell_type": "code",
      "metadata": {
        "id": "6yzCLedpdR_k",
        "colab_type": "code",
        "colab": {}
      },
      "source": [
        "import os\n",
        "import zipfile\n",
        "local_zip = '/content/youtubecategory.zip'\n",
        "zip_ref = zipfile.ZipFile(local_zip, 'r')\n",
        "zip_ref.extractall('/content')\n",
        "zip_ref.close()"
      ],
      "execution_count": 1,
      "outputs": []
    },
    {
      "cell_type": "code",
      "metadata": {
        "id": "Yvzkj0w9eSdx",
        "colab_type": "code",
        "colab": {
          "base_uri": "https://localhost:8080/",
          "height": 538
        },
        "outputId": "a59ce21b-6bff-46e5-ba4d-345317b0d243"
      },
      "source": [
        "import pandas as pd\n",
        "df = pd.read_csv('Youtube_Video_Dataset.csv')\n",
        "df"
      ],
      "execution_count": 23,
      "outputs": [
        {
          "output_type": "execute_result",
          "data": {
            "text/html": [
              "<div>\n",
              "<style scoped>\n",
              "    .dataframe tbody tr th:only-of-type {\n",
              "        vertical-align: middle;\n",
              "    }\n",
              "\n",
              "    .dataframe tbody tr th {\n",
              "        vertical-align: top;\n",
              "    }\n",
              "\n",
              "    .dataframe thead th {\n",
              "        text-align: right;\n",
              "    }\n",
              "</style>\n",
              "<table border=\"1\" class=\"dataframe\">\n",
              "  <thead>\n",
              "    <tr style=\"text-align: right;\">\n",
              "      <th></th>\n",
              "      <th>Title</th>\n",
              "      <th>Videourl</th>\n",
              "      <th>Category</th>\n",
              "      <th>Description</th>\n",
              "    </tr>\n",
              "  </thead>\n",
              "  <tbody>\n",
              "    <tr>\n",
              "      <th>0</th>\n",
              "      <td>Madagascar Street Food!!! Super RARE Malagasy ...</td>\n",
              "      <td>/watch?v=EwBA1fOQ96c</td>\n",
              "      <td>Food</td>\n",
              "      <td>🎥GIANT ALIEN SNAIL IN JAPAN! » https://youtu.b...</td>\n",
              "    </tr>\n",
              "    <tr>\n",
              "      <th>1</th>\n",
              "      <td>42 Foods You Need To Eat Before You Die</td>\n",
              "      <td>/watch?v=0SPwwpruGIA</td>\n",
              "      <td>Food</td>\n",
              "      <td>This is the ultimate must-try food bucket list...</td>\n",
              "    </tr>\n",
              "    <tr>\n",
              "      <th>2</th>\n",
              "      <td>Gordon Ramsay’s Top 5 Indian Dishes</td>\n",
              "      <td>/watch?v=upfu5nQB2ks</td>\n",
              "      <td>Food</td>\n",
              "      <td>We found 5 of the best and most interesting In...</td>\n",
              "    </tr>\n",
              "    <tr>\n",
              "      <th>3</th>\n",
              "      <td>How To Use Chopsticks - In About A Minute 🍜</td>\n",
              "      <td>/watch?v=xFRzzSF_6gk</td>\n",
              "      <td>Food</td>\n",
              "      <td>You're most likely sitting in a restaurant wit...</td>\n",
              "    </tr>\n",
              "    <tr>\n",
              "      <th>4</th>\n",
              "      <td>Trying Indian Food 1st Time!</td>\n",
              "      <td>/watch?v=K79bXtaRwcM</td>\n",
              "      <td>Food</td>\n",
              "      <td>HELP SUPPORT SINSTV!! Shop Our Sponsors!\\nLast...</td>\n",
              "    </tr>\n",
              "    <tr>\n",
              "      <th>...</th>\n",
              "      <td>...</td>\n",
              "      <td>...</td>\n",
              "      <td>...</td>\n",
              "      <td>...</td>\n",
              "    </tr>\n",
              "    <tr>\n",
              "      <th>11206</th>\n",
              "      <td>art journal | shimmer sprays, stencils, collag...</td>\n",
              "      <td>/watch?v=mJBOQr_-8_Y</td>\n",
              "      <td>Art&amp;Music</td>\n",
              "      <td>Step by step video on creating an art journal ...</td>\n",
              "    </tr>\n",
              "    <tr>\n",
              "      <th>11207</th>\n",
              "      <td>Ar-Tea Collage * Mixed Media Art</td>\n",
              "      <td>/watch?v=GOihUhnZxtw</td>\n",
              "      <td>Art&amp;Music</td>\n",
              "      <td>By: Ilene McInnes,\\nMixed media Art and inspir...</td>\n",
              "    </tr>\n",
              "    <tr>\n",
              "      <th>11208</th>\n",
              "      <td>DIY Mixed Media Art Collage Greeting Cards / M...</td>\n",
              "      <td>/watch?v=BchUtLfjews</td>\n",
              "      <td>Art&amp;Music</td>\n",
              "      <td>Make your own Mixed Media Greeting Cards\\n\\nHe...</td>\n",
              "    </tr>\n",
              "    <tr>\n",
              "      <th>11209</th>\n",
              "      <td>Art Collage Process DecoJournal using Rice Pap...</td>\n",
              "      <td>/watch?v=FlQ_j-cflQc</td>\n",
              "      <td>Art&amp;Music</td>\n",
              "      <td>Art Collage Process DecoJournal using Rice Pap...</td>\n",
              "    </tr>\n",
              "    <tr>\n",
              "      <th>11210</th>\n",
              "      <td>Journal Collage Process using Magazine Cut Out...</td>\n",
              "      <td>/watch?v=OakWQvYMP4w</td>\n",
              "      <td>Art&amp;Music</td>\n",
              "      <td>Using magazine, scrapbook paper, recycled old ...</td>\n",
              "    </tr>\n",
              "  </tbody>\n",
              "</table>\n",
              "<p>11211 rows × 4 columns</p>\n",
              "</div>"
            ],
            "text/plain": [
              "                                                   Title  ...                                        Description\n",
              "0      Madagascar Street Food!!! Super RARE Malagasy ...  ...  🎥GIANT ALIEN SNAIL IN JAPAN! » https://youtu.b...\n",
              "1                42 Foods You Need To Eat Before You Die  ...  This is the ultimate must-try food bucket list...\n",
              "2                    Gordon Ramsay’s Top 5 Indian Dishes  ...  We found 5 of the best and most interesting In...\n",
              "3            How To Use Chopsticks - In About A Minute 🍜  ...  You're most likely sitting in a restaurant wit...\n",
              "4                           Trying Indian Food 1st Time!  ...  HELP SUPPORT SINSTV!! Shop Our Sponsors!\\nLast...\n",
              "...                                                  ...  ...                                                ...\n",
              "11206  art journal | shimmer sprays, stencils, collag...  ...  Step by step video on creating an art journal ...\n",
              "11207                   Ar-Tea Collage * Mixed Media Art  ...  By: Ilene McInnes,\\nMixed media Art and inspir...\n",
              "11208  DIY Mixed Media Art Collage Greeting Cards / M...  ...  Make your own Mixed Media Greeting Cards\\n\\nHe...\n",
              "11209  Art Collage Process DecoJournal using Rice Pap...  ...  Art Collage Process DecoJournal using Rice Pap...\n",
              "11210  Journal Collage Process using Magazine Cut Out...  ...  Using magazine, scrapbook paper, recycled old ...\n",
              "\n",
              "[11211 rows x 4 columns]"
            ]
          },
          "metadata": {
            "tags": []
          },
          "execution_count": 23
        }
      ]
    },
    {
      "cell_type": "markdown",
      "metadata": {
        "id": "nT2Q9raqwkhI",
        "colab_type": "text"
      },
      "source": [
        "Description tidak dibutuhkan karena banyak isinya tidak berhubungan sama sekali dengan konten (seperti iklan untuk konten lain dsb) sehingga yang akan digunakan hanyalah Title sebagai feature dan Category sebagai label"
      ]
    },
    {
      "cell_type": "code",
      "metadata": {
        "id": "uqThC6Ofw_Yn",
        "colab_type": "code",
        "colab": {
          "base_uri": "https://localhost:8080/",
          "height": 204
        },
        "outputId": "72849685-99d6-4845-b47f-13028af739c0"
      },
      "source": [
        "df = df.drop(columns=['Videourl', 'Description'])\n",
        "df.head()"
      ],
      "execution_count": 3,
      "outputs": [
        {
          "output_type": "execute_result",
          "data": {
            "text/html": [
              "<div>\n",
              "<style scoped>\n",
              "    .dataframe tbody tr th:only-of-type {\n",
              "        vertical-align: middle;\n",
              "    }\n",
              "\n",
              "    .dataframe tbody tr th {\n",
              "        vertical-align: top;\n",
              "    }\n",
              "\n",
              "    .dataframe thead th {\n",
              "        text-align: right;\n",
              "    }\n",
              "</style>\n",
              "<table border=\"1\" class=\"dataframe\">\n",
              "  <thead>\n",
              "    <tr style=\"text-align: right;\">\n",
              "      <th></th>\n",
              "      <th>Title</th>\n",
              "      <th>Category</th>\n",
              "    </tr>\n",
              "  </thead>\n",
              "  <tbody>\n",
              "    <tr>\n",
              "      <th>0</th>\n",
              "      <td>Madagascar Street Food!!! Super RARE Malagasy ...</td>\n",
              "      <td>Food</td>\n",
              "    </tr>\n",
              "    <tr>\n",
              "      <th>1</th>\n",
              "      <td>42 Foods You Need To Eat Before You Die</td>\n",
              "      <td>Food</td>\n",
              "    </tr>\n",
              "    <tr>\n",
              "      <th>2</th>\n",
              "      <td>Gordon Ramsay’s Top 5 Indian Dishes</td>\n",
              "      <td>Food</td>\n",
              "    </tr>\n",
              "    <tr>\n",
              "      <th>3</th>\n",
              "      <td>How To Use Chopsticks - In About A Minute 🍜</td>\n",
              "      <td>Food</td>\n",
              "    </tr>\n",
              "    <tr>\n",
              "      <th>4</th>\n",
              "      <td>Trying Indian Food 1st Time!</td>\n",
              "      <td>Food</td>\n",
              "    </tr>\n",
              "  </tbody>\n",
              "</table>\n",
              "</div>"
            ],
            "text/plain": [
              "                                               Title Category\n",
              "0  Madagascar Street Food!!! Super RARE Malagasy ...     Food\n",
              "1            42 Foods You Need To Eat Before You Die     Food\n",
              "2                Gordon Ramsay’s Top 5 Indian Dishes     Food\n",
              "3        How To Use Chopsticks - In About A Minute 🍜     Food\n",
              "4                       Trying Indian Food 1st Time!     Food"
            ]
          },
          "metadata": {
            "tags": []
          },
          "execution_count": 3
        }
      ]
    },
    {
      "cell_type": "code",
      "metadata": {
        "id": "s6ZeBlQ6xQTp",
        "colab_type": "code",
        "colab": {
          "base_uri": "https://localhost:8080/",
          "height": 493
        },
        "outputId": "ea2bc735-67cf-40f9-fcd9-8c47758326d7"
      },
      "source": [
        "category = pd.get_dummies(df.Category)\n",
        "df_baru = pd.concat([df, category], axis=1)\n",
        "df_baru = df_baru.drop(columns='Category')\n",
        "df_baru.head()"
      ],
      "execution_count": 46,
      "outputs": [
        {
          "output_type": "execute_result",
          "data": {
            "text/html": [
              "<div>\n",
              "<style scoped>\n",
              "    .dataframe tbody tr th:only-of-type {\n",
              "        vertical-align: middle;\n",
              "    }\n",
              "\n",
              "    .dataframe tbody tr th {\n",
              "        vertical-align: top;\n",
              "    }\n",
              "\n",
              "    .dataframe thead th {\n",
              "        text-align: right;\n",
              "    }\n",
              "</style>\n",
              "<table border=\"1\" class=\"dataframe\">\n",
              "  <thead>\n",
              "    <tr style=\"text-align: right;\">\n",
              "      <th></th>\n",
              "      <th>Title</th>\n",
              "      <th>Videourl</th>\n",
              "      <th>Description</th>\n",
              "      <th>Art&amp;Music</th>\n",
              "      <th>Food</th>\n",
              "      <th>History</th>\n",
              "      <th>Science&amp;Technology</th>\n",
              "      <th>manufacturing</th>\n",
              "      <th>travel blog</th>\n",
              "    </tr>\n",
              "  </thead>\n",
              "  <tbody>\n",
              "    <tr>\n",
              "      <th>0</th>\n",
              "      <td>Madagascar Street Food!!! Super RARE Malagasy ...</td>\n",
              "      <td>/watch?v=EwBA1fOQ96c</td>\n",
              "      <td>🎥GIANT ALIEN SNAIL IN JAPAN! » https://youtu.b...</td>\n",
              "      <td>0</td>\n",
              "      <td>1</td>\n",
              "      <td>0</td>\n",
              "      <td>0</td>\n",
              "      <td>0</td>\n",
              "      <td>0</td>\n",
              "    </tr>\n",
              "    <tr>\n",
              "      <th>1</th>\n",
              "      <td>42 Foods You Need To Eat Before You Die</td>\n",
              "      <td>/watch?v=0SPwwpruGIA</td>\n",
              "      <td>This is the ultimate must-try food bucket list...</td>\n",
              "      <td>0</td>\n",
              "      <td>1</td>\n",
              "      <td>0</td>\n",
              "      <td>0</td>\n",
              "      <td>0</td>\n",
              "      <td>0</td>\n",
              "    </tr>\n",
              "    <tr>\n",
              "      <th>2</th>\n",
              "      <td>Gordon Ramsay’s Top 5 Indian Dishes</td>\n",
              "      <td>/watch?v=upfu5nQB2ks</td>\n",
              "      <td>We found 5 of the best and most interesting In...</td>\n",
              "      <td>0</td>\n",
              "      <td>1</td>\n",
              "      <td>0</td>\n",
              "      <td>0</td>\n",
              "      <td>0</td>\n",
              "      <td>0</td>\n",
              "    </tr>\n",
              "    <tr>\n",
              "      <th>3</th>\n",
              "      <td>How To Use Chopsticks - In About A Minute 🍜</td>\n",
              "      <td>/watch?v=xFRzzSF_6gk</td>\n",
              "      <td>You're most likely sitting in a restaurant wit...</td>\n",
              "      <td>0</td>\n",
              "      <td>1</td>\n",
              "      <td>0</td>\n",
              "      <td>0</td>\n",
              "      <td>0</td>\n",
              "      <td>0</td>\n",
              "    </tr>\n",
              "    <tr>\n",
              "      <th>4</th>\n",
              "      <td>Trying Indian Food 1st Time!</td>\n",
              "      <td>/watch?v=K79bXtaRwcM</td>\n",
              "      <td>HELP SUPPORT SINSTV!! Shop Our Sponsors!\\nLast...</td>\n",
              "      <td>0</td>\n",
              "      <td>1</td>\n",
              "      <td>0</td>\n",
              "      <td>0</td>\n",
              "      <td>0</td>\n",
              "      <td>0</td>\n",
              "    </tr>\n",
              "  </tbody>\n",
              "</table>\n",
              "</div>"
            ],
            "text/plain": [
              "                                               Title  ... travel blog\n",
              "0  Madagascar Street Food!!! Super RARE Malagasy ...  ...           0\n",
              "1            42 Foods You Need To Eat Before You Die  ...           0\n",
              "2                Gordon Ramsay’s Top 5 Indian Dishes  ...           0\n",
              "3        How To Use Chopsticks - In About A Minute 🍜  ...           0\n",
              "4                       Trying Indian Food 1st Time!  ...           0\n",
              "\n",
              "[5 rows x 9 columns]"
            ]
          },
          "metadata": {
            "tags": []
          },
          "execution_count": 46
        }
      ]
    },
    {
      "cell_type": "code",
      "metadata": {
        "id": "mBKVKrPHJ5Wz",
        "colab_type": "code",
        "colab": {
          "base_uri": "https://localhost:8080/",
          "height": 34
        },
        "outputId": "3d2cb2df-ca52-4157-f42b-a6feae984f3b"
      },
      "source": [
        "df_baru.shape"
      ],
      "execution_count": 47,
      "outputs": [
        {
          "output_type": "execute_result",
          "data": {
            "text/plain": [
              "(11211, 9)"
            ]
          },
          "metadata": {
            "tags": []
          },
          "execution_count": 47
        }
      ]
    },
    {
      "cell_type": "code",
      "metadata": {
        "id": "LDx9ZnA7yuMt",
        "colab_type": "code",
        "colab": {}
      },
      "source": [
        "judul = df_baru['Title'].values\n",
        "label = df_baru[['Art&Music', 'Food', 'History', 'Science&Technology', 'manufacturing', 'travel blog']].values"
      ],
      "execution_count": 5,
      "outputs": []
    },
    {
      "cell_type": "code",
      "metadata": {
        "id": "iYT7GQlBzAAK",
        "colab_type": "code",
        "colab": {}
      },
      "source": [
        "from sklearn.model_selection import train_test_split\n",
        "judul_latih, judul_test, label_latih, label_test = train_test_split(judul, label, test_size=0.2)"
      ],
      "execution_count": 6,
      "outputs": []
    },
    {
      "cell_type": "code",
      "metadata": {
        "id": "urcaBy3DzP3n",
        "colab_type": "code",
        "colab": {}
      },
      "source": [
        "from tensorflow.keras.preprocessing.text import Tokenizer\n",
        "from tensorflow.keras.preprocessing.sequence import pad_sequences\n",
        " \n",
        "tokenizer = Tokenizer(num_words=5000, oov_token='x')\n",
        "tokenizer.fit_on_texts(judul_latih) \n",
        "tokenizer.fit_on_texts(judul_test)\n",
        " \n",
        "sekuens_latih = tokenizer.texts_to_sequences(judul_latih)\n",
        "sekuens_test = tokenizer.texts_to_sequences(judul_test)\n",
        " \n",
        "padded_latih = pad_sequences(sekuens_latih) \n",
        "padded_test = pad_sequences(sekuens_test)"
      ],
      "execution_count": 9,
      "outputs": []
    },
    {
      "cell_type": "code",
      "metadata": {
        "id": "URebpM8ezkzP",
        "colab_type": "code",
        "colab": {}
      },
      "source": [
        "import tensorflow as tf\n",
        "model = tf.keras.Sequential([\n",
        "    tf.keras.layers.Embedding(input_dim=5000, output_dim=16),\n",
        "    # Menggunakan Neuron yang sedikit \n",
        "    # Karena Neuron yang besar pada model ini menyebabkan overfitting\n",
        "    tf.keras.layers.LSTM(32),\n",
        "    tf.keras.layers.Dense(32, activation='relu'),\n",
        "    tf.keras.layers.Dropout(0.5),\n",
        "    # tf.keras.layers.Dense(32, activation='relu'),\n",
        "    # tf.keras.layers.Dropout(0.5),\n",
        "    tf.keras.layers.Dense(6, activation='softmax')\n",
        "])\n",
        "model.compile(loss='categorical_crossentropy',optimizer='adam',metrics=['accuracy'])"
      ],
      "execution_count": 41,
      "outputs": []
    },
    {
      "cell_type": "code",
      "metadata": {
        "id": "L3QirsKpJ-XW",
        "colab_type": "code",
        "colab": {
          "base_uri": "https://localhost:8080/",
          "height": 323
        },
        "outputId": "c7a2dc0f-fb22-4ea7-c10c-dcb88f5dcae7"
      },
      "source": [
        "model.summary()"
      ],
      "execution_count": 50,
      "outputs": [
        {
          "output_type": "stream",
          "text": [
            "Model: \"sequential_8\"\n",
            "_________________________________________________________________\n",
            "Layer (type)                 Output Shape              Param #   \n",
            "=================================================================\n",
            "embedding_10 (Embedding)     (None, None, 16)          80000     \n",
            "_________________________________________________________________\n",
            "lstm_10 (LSTM)               (None, 32)                6272      \n",
            "_________________________________________________________________\n",
            "dense_21 (Dense)             (None, 32)                1056      \n",
            "_________________________________________________________________\n",
            "dropout_6 (Dropout)          (None, 32)                0         \n",
            "_________________________________________________________________\n",
            "dense_22 (Dense)             (None, 6)                 198       \n",
            "=================================================================\n",
            "Total params: 87,526\n",
            "Trainable params: 87,526\n",
            "Non-trainable params: 0\n",
            "_________________________________________________________________\n"
          ],
          "name": "stdout"
        }
      ]
    },
    {
      "cell_type": "code",
      "metadata": {
        "id": "EYfYUl343lMd",
        "colab_type": "code",
        "colab": {}
      },
      "source": [
        "# Penggunaan Callback mencegah overfitting dan menghentikan training setelah akurasi terpenuhi\n",
        "class myCallback(tf.keras.callbacks.Callback):\n",
        "  def on_epoch_end(self, epoch, logs={}):\n",
        "    if(logs.get('accuracy') > 0.92):\n",
        "      print(\"\\nAkurasi di atas 92%, hentikan pelatihan!\")\n",
        "      self.model.stop_training = True\n",
        "\n",
        "callbacks = myCallback()"
      ],
      "execution_count": 15,
      "outputs": []
    },
    {
      "cell_type": "code",
      "metadata": {
        "id": "k2h8Djmszo3f",
        "colab_type": "code",
        "colab": {
          "base_uri": "https://localhost:8080/",
          "height": 153
        },
        "outputId": "63c2c1cb-2cc9-4fe4-95ea-d400df87f4c7"
      },
      "source": [
        "num_epochs = 10\n",
        "history = model.fit(padded_latih, label_latih, epochs=num_epochs, \n",
        "                    validation_data=(padded_test, label_test), verbose=2, callbacks=[callbacks])"
      ],
      "execution_count": 42,
      "outputs": [
        {
          "output_type": "stream",
          "text": [
            "Epoch 1/10\n",
            "281/281 - 3s - loss: 1.2618 - accuracy: 0.4871 - val_loss: 0.4358 - val_accuracy: 0.8908\n",
            "Epoch 2/10\n",
            "281/281 - 3s - loss: 0.3984 - accuracy: 0.8833 - val_loss: 0.2362 - val_accuracy: 0.9211\n",
            "Epoch 3/10\n",
            "\n",
            "Akurasi di atas 92%, hentikan pelatihan!\n",
            "281/281 - 3s - loss: 0.2207 - accuracy: 0.9371 - val_loss: 0.2177 - val_accuracy: 0.9291\n"
          ],
          "name": "stdout"
        }
      ]
    },
    {
      "cell_type": "code",
      "metadata": {
        "id": "7ElX5aT7AJbm",
        "colab_type": "code",
        "colab": {
          "base_uri": "https://localhost:8080/",
          "height": 541
        },
        "outputId": "181afa89-3aa3-4862-e367-8d42cb1890ae"
      },
      "source": [
        "import matplotlib.pyplot as plt\n",
        "def plot_graphs(history, string):\n",
        "  plt.plot(history.history[string])\n",
        "  plt.plot(history.history['val_'+string])\n",
        "  plt.xlabel(\"Epochs\")\n",
        "  plt.ylabel(string)\n",
        "  plt.legend([string, 'val_'+string])\n",
        "  plt.show()\n",
        "  \n",
        "plot_graphs(history, \"accuracy\")\n",
        "plot_graphs(history, \"loss\")"
      ],
      "execution_count": 43,
      "outputs": [
        {
          "output_type": "display_data",
          "data": {
            "image/png": "[encoded data removed]",
            "text/plain": [
              "<Figure size 432x288 with 1 Axes>"
            ]
          },
          "metadata": {
            "tags": [],
            "needs_background": "light"
          }
        },
        {
          "output_type": "display_data",
          "data": {
            "image/png": "[encoded data removed]",
            "text/plain": [
              "<Figure size 432x288 with 1 Axes>"
            ]
          },
          "metadata": {
            "tags": [],
            "needs_background": "light"
          }
        }
      ]
    }
  ]
}